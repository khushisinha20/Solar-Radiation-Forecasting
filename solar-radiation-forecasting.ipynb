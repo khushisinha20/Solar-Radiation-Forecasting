{
 "cells": [
  {
   "cell_type": "code",
   "execution_count": 18,
   "id": "eb5ce25f",
   "metadata": {},
   "outputs": [],
   "source": [
    "from keras import Sequential\n",
    "from keras.layers import Dense, Dropout, LSTM, Bidirectional\n",
    "from sklearn.preprocessing import MinMaxScaler\n",
    "import pandas as pd\n",
    "import numpy as np\n",
    "import matplotlib.pyplot as plt"
   ]
  },
  {
   "cell_type": "code",
   "execution_count": 19,
   "id": "6421102c",
   "metadata": {},
   "outputs": [
    {
     "data": {
      "text/html": [
       "<div>\n",
       "<style scoped>\n",
       "    .dataframe tbody tr th:only-of-type {\n",
       "        vertical-align: middle;\n",
       "    }\n",
       "\n",
       "    .dataframe tbody tr th {\n",
       "        vertical-align: top;\n",
       "    }\n",
       "\n",
       "    .dataframe thead th {\n",
       "        text-align: right;\n",
       "    }\n",
       "</style>\n",
       "<table border=\"1\" class=\"dataframe\">\n",
       "  <thead>\n",
       "    <tr style=\"text-align: right;\">\n",
       "      <th></th>\n",
       "      <th>UNIXTime</th>\n",
       "      <th>Date</th>\n",
       "      <th>Time</th>\n",
       "      <th>Radiation</th>\n",
       "      <th>Temperature</th>\n",
       "      <th>Pressure</th>\n",
       "      <th>Humidity</th>\n",
       "      <th>WindDirection(Degrees)</th>\n",
       "      <th>Speed</th>\n",
       "      <th>TimeSunRise</th>\n",
       "      <th>TimeSunSet</th>\n",
       "    </tr>\n",
       "  </thead>\n",
       "  <tbody>\n",
       "    <tr>\n",
       "      <th>0</th>\n",
       "      <td>1475229326</td>\n",
       "      <td>2016-09-29</td>\n",
       "      <td>23:55:26</td>\n",
       "      <td>1.21</td>\n",
       "      <td>48</td>\n",
       "      <td>30.46</td>\n",
       "      <td>59</td>\n",
       "      <td>177.39</td>\n",
       "      <td>5.62</td>\n",
       "      <td>0.26</td>\n",
       "      <td>0.76</td>\n",
       "    </tr>\n",
       "    <tr>\n",
       "      <th>1</th>\n",
       "      <td>1475229023</td>\n",
       "      <td>2016-09-29</td>\n",
       "      <td>23:50:23</td>\n",
       "      <td>1.21</td>\n",
       "      <td>48</td>\n",
       "      <td>30.46</td>\n",
       "      <td>58</td>\n",
       "      <td>176.78</td>\n",
       "      <td>3.37</td>\n",
       "      <td>0.26</td>\n",
       "      <td>0.76</td>\n",
       "    </tr>\n",
       "    <tr>\n",
       "      <th>2</th>\n",
       "      <td>1475228726</td>\n",
       "      <td>2016-09-29</td>\n",
       "      <td>23:45:26</td>\n",
       "      <td>1.23</td>\n",
       "      <td>48</td>\n",
       "      <td>30.46</td>\n",
       "      <td>57</td>\n",
       "      <td>158.75</td>\n",
       "      <td>3.37</td>\n",
       "      <td>0.26</td>\n",
       "      <td>0.76</td>\n",
       "    </tr>\n",
       "    <tr>\n",
       "      <th>3</th>\n",
       "      <td>1475228421</td>\n",
       "      <td>2016-09-29</td>\n",
       "      <td>23:40:21</td>\n",
       "      <td>1.21</td>\n",
       "      <td>48</td>\n",
       "      <td>30.46</td>\n",
       "      <td>60</td>\n",
       "      <td>137.71</td>\n",
       "      <td>3.37</td>\n",
       "      <td>0.26</td>\n",
       "      <td>0.76</td>\n",
       "    </tr>\n",
       "    <tr>\n",
       "      <th>4</th>\n",
       "      <td>1475228124</td>\n",
       "      <td>2016-09-29</td>\n",
       "      <td>23:35:24</td>\n",
       "      <td>1.17</td>\n",
       "      <td>48</td>\n",
       "      <td>30.46</td>\n",
       "      <td>62</td>\n",
       "      <td>104.95</td>\n",
       "      <td>5.62</td>\n",
       "      <td>0.26</td>\n",
       "      <td>0.76</td>\n",
       "    </tr>\n",
       "  </tbody>\n",
       "</table>\n",
       "</div>"
      ],
      "text/plain": [
       "     UNIXTime        Date      Time  Radiation  Temperature  Pressure  \\\n",
       "0  1475229326  2016-09-29  23:55:26       1.21           48     30.46   \n",
       "1  1475229023  2016-09-29  23:50:23       1.21           48     30.46   \n",
       "2  1475228726  2016-09-29  23:45:26       1.23           48     30.46   \n",
       "3  1475228421  2016-09-29  23:40:21       1.21           48     30.46   \n",
       "4  1475228124  2016-09-29  23:35:24       1.17           48     30.46   \n",
       "\n",
       "   Humidity  WindDirection(Degrees)  Speed  TimeSunRise  TimeSunSet  \n",
       "0        59                  177.39   5.62         0.26        0.76  \n",
       "1        58                  176.78   3.37         0.26        0.76  \n",
       "2        57                  158.75   3.37         0.26        0.76  \n",
       "3        60                  137.71   3.37         0.26        0.76  \n",
       "4        62                  104.95   5.62         0.26        0.76  "
      ]
     },
     "execution_count": 19,
     "metadata": {},
     "output_type": "execute_result"
    }
   ],
   "source": [
    "data = pd.read_csv('data.csv')\n",
    "data.head()"
   ]
  },
  {
   "cell_type": "code",
   "execution_count": 20,
   "id": "aeadcfd3",
   "metadata": {},
   "outputs": [
    {
     "data": {
      "text/html": [
       "<div>\n",
       "<style scoped>\n",
       "    .dataframe tbody tr th:only-of-type {\n",
       "        vertical-align: middle;\n",
       "    }\n",
       "\n",
       "    .dataframe tbody tr th {\n",
       "        vertical-align: top;\n",
       "    }\n",
       "\n",
       "    .dataframe thead th {\n",
       "        text-align: right;\n",
       "    }\n",
       "</style>\n",
       "<table border=\"1\" class=\"dataframe\">\n",
       "  <thead>\n",
       "    <tr style=\"text-align: right;\">\n",
       "      <th></th>\n",
       "      <th>Radiation</th>\n",
       "    </tr>\n",
       "    <tr>\n",
       "      <th>UNIXTime</th>\n",
       "      <th></th>\n",
       "    </tr>\n",
       "  </thead>\n",
       "  <tbody>\n",
       "    <tr>\n",
       "      <th>1481318139</th>\n",
       "      <td>120.52</td>\n",
       "    </tr>\n",
       "    <tr>\n",
       "      <th>1481317850</th>\n",
       "      <td>107.32</td>\n",
       "    </tr>\n",
       "    <tr>\n",
       "      <th>1481317540</th>\n",
       "      <td>144.85</td>\n",
       "    </tr>\n",
       "    <tr>\n",
       "      <th>1481317251</th>\n",
       "      <td>179.73</td>\n",
       "    </tr>\n",
       "    <tr>\n",
       "      <th>1481316953</th>\n",
       "      <td>193.00</td>\n",
       "    </tr>\n",
       "  </tbody>\n",
       "</table>\n",
       "</div>"
      ],
      "text/plain": [
       "            Radiation\n",
       "UNIXTime             \n",
       "1481318139     120.52\n",
       "1481317850     107.32\n",
       "1481317540     144.85\n",
       "1481317251     179.73\n",
       "1481316953     193.00"
      ]
     },
     "execution_count": 20,
     "metadata": {},
     "output_type": "execute_result"
    }
   ],
   "source": [
    "data_sun = data[['UNIXTime', 'Radiation']].iloc[:31000, :]\n",
    "data_sun.set_index('UNIXTime', drop = True, inplace = True)\n",
    "data_sun.tail()"
   ]
  },
  {
   "cell_type": "code",
   "execution_count": 21,
   "id": "113ed6dd",
   "metadata": {},
   "outputs": [
    {
     "data": {
      "text/html": [
       "<div>\n",
       "<style scoped>\n",
       "    .dataframe tbody tr th:only-of-type {\n",
       "        vertical-align: middle;\n",
       "    }\n",
       "\n",
       "    .dataframe tbody tr th {\n",
       "        vertical-align: top;\n",
       "    }\n",
       "\n",
       "    .dataframe thead th {\n",
       "        text-align: right;\n",
       "    }\n",
       "</style>\n",
       "<table border=\"1\" class=\"dataframe\">\n",
       "  <thead>\n",
       "    <tr style=\"text-align: right;\">\n",
       "      <th></th>\n",
       "      <th>Radiation</th>\n",
       "    </tr>\n",
       "    <tr>\n",
       "      <th>UNIXTime</th>\n",
       "      <th></th>\n",
       "    </tr>\n",
       "  </thead>\n",
       "  <tbody>\n",
       "    <tr>\n",
       "      <th>1475229326</th>\n",
       "      <td>0.000062</td>\n",
       "    </tr>\n",
       "    <tr>\n",
       "      <th>1475229023</th>\n",
       "      <td>0.000062</td>\n",
       "    </tr>\n",
       "    <tr>\n",
       "      <th>1475228726</th>\n",
       "      <td>0.000075</td>\n",
       "    </tr>\n",
       "    <tr>\n",
       "      <th>1475228421</th>\n",
       "      <td>0.000062</td>\n",
       "    </tr>\n",
       "    <tr>\n",
       "      <th>1475228124</th>\n",
       "      <td>0.000037</td>\n",
       "    </tr>\n",
       "  </tbody>\n",
       "</table>\n",
       "</div>"
      ],
      "text/plain": [
       "            Radiation\n",
       "UNIXTime             \n",
       "1475229326   0.000062\n",
       "1475229023   0.000062\n",
       "1475228726   0.000075\n",
       "1475228421   0.000062\n",
       "1475228124   0.000037"
      ]
     },
     "execution_count": 21,
     "metadata": {},
     "output_type": "execute_result"
    }
   ],
   "source": [
    "MMS = MinMaxScaler()\n",
    "data_sun[data_sun.columns] = MMS.fit_transform(data_sun)\n",
    "data_sun.head()"
   ]
  },
  {
   "cell_type": "code",
   "execution_count": 22,
   "id": "0714e838",
   "metadata": {},
   "outputs": [],
   "source": [
    "training_size = round(len(data_sun) * 0.80)\n",
    "train_data = data_sun[:training_size]\n",
    "test_data = data_sun[training_size:]"
   ]
  },
  {
   "cell_type": "code",
   "execution_count": 23,
   "id": "158c7768",
   "metadata": {},
   "outputs": [],
   "source": [
    "def create_sequence(dataset, sequence_len):\n",
    "    sequences = []\n",
    "    labels = []\n",
    "    start_index = 0\n",
    "    for stop_index in range(sequence_len, len(dataset)):\n",
    "        sequences.append(dataset.iloc[start_index : stop_index])\n",
    "        labels.append(dataset.iloc[stop_index])\n",
    "        start_index += 1\n",
    "    return (np.array(sequences), np.array(labels))"
   ]
  },
  {
   "cell_type": "code",
   "execution_count": 24,
   "id": "59b44dde",
   "metadata": {},
   "outputs": [
    {
     "name": "stdout",
     "output_type": "stream",
     "text": [
      "(24700, 100, 1) (6100, 100, 1)\n"
     ]
    }
   ],
   "source": [
    "X_train, Y_train = create_sequence(train_data, 100)\n",
    "X_val, Y_val = create_sequence(test_data, 100)\n",
    "print(X_train.shape, X_val.shape)"
   ]
  },
  {
   "cell_type": "code",
   "execution_count": 25,
   "id": "563e38bb",
   "metadata": {},
   "outputs": [],
   "source": [
    "from keras import backend \n",
    "def rmse(y_true, y_pred):\n",
    "    return backend.sqrt(backend.mean(backend.square(y_pred - y_true), axis=-1))"
   ]
  },
  {
   "cell_type": "code",
   "execution_count": 26,
   "id": "eb297229",
   "metadata": {},
   "outputs": [],
   "source": [
    "model = Sequential()\n",
    "model.add(LSTM(units = 64, return_sequences = True, input_shape = (X_train.shape[1], X_train.shape[2])))\n",
    "model.add(Dropout(0.1)) \n",
    "model.add(LSTM(units = 32))\n",
    "model.add(Dense(1))\n",
    "model.compile(loss = 'mean_squared_error', optimizer = 'adam', metrics = ['mean_absolute_error', rmse])"
   ]
  },
  {
   "cell_type": "code",
   "execution_count": 27,
   "id": "77f1f8c1",
   "metadata": {},
   "outputs": [
    {
     "name": "stdout",
     "output_type": "stream",
     "text": [
      "Epoch 1/10\n",
      "772/772 [==============================] - 36s 44ms/step - loss: 0.0042 - mean_absolute_error: 0.0330 - rmse: 0.0330 - val_loss: 0.0019 - val_mean_absolute_error: 0.0207 - val_rmse: 0.0207\n",
      "Epoch 2/10\n",
      "772/772 [==============================] - 34s 44ms/step - loss: 0.0032 - mean_absolute_error: 0.0275 - rmse: 0.0275 - val_loss: 0.0019 - val_mean_absolute_error: 0.0218 - val_rmse: 0.0218\n",
      "Epoch 3/10\n",
      "772/772 [==============================] - 35s 45ms/step - loss: 0.0030 - mean_absolute_error: 0.0258 - rmse: 0.0258 - val_loss: 0.0015 - val_mean_absolute_error: 0.0170 - val_rmse: 0.0170\n",
      "Epoch 4/10\n",
      "772/772 [==============================] - 34s 45ms/step - loss: 0.0030 - mean_absolute_error: 0.0254 - rmse: 0.0254 - val_loss: 0.0015 - val_mean_absolute_error: 0.0189 - val_rmse: 0.0189\n",
      "Epoch 5/10\n",
      "772/772 [==============================] - 35s 45ms/step - loss: 0.0029 - mean_absolute_error: 0.0240 - rmse: 0.0240 - val_loss: 0.0014 - val_mean_absolute_error: 0.0157 - val_rmse: 0.0157\n",
      "Epoch 6/10\n",
      "772/772 [==============================] - 34s 44ms/step - loss: 0.0029 - mean_absolute_error: 0.0241 - rmse: 0.0241 - val_loss: 0.0014 - val_mean_absolute_error: 0.0149 - val_rmse: 0.0149\n",
      "Epoch 7/10\n",
      "772/772 [==============================] - 34s 45ms/step - loss: 0.0029 - mean_absolute_error: 0.0239 - rmse: 0.0239 - val_loss: 0.0014 - val_mean_absolute_error: 0.0163 - val_rmse: 0.0163\n",
      "Epoch 8/10\n",
      "772/772 [==============================] - 33s 43ms/step - loss: 0.0028 - mean_absolute_error: 0.0237 - rmse: 0.0237 - val_loss: 0.0017 - val_mean_absolute_error: 0.0230 - val_rmse: 0.0230\n",
      "Epoch 9/10\n",
      "772/772 [==============================] - 34s 44ms/step - loss: 0.0028 - mean_absolute_error: 0.0235 - rmse: 0.0235 - val_loss: 0.0015 - val_mean_absolute_error: 0.0163 - val_rmse: 0.0163\n",
      "Epoch 10/10\n",
      "772/772 [==============================] - 34s 44ms/step - loss: 0.0028 - mean_absolute_error: 0.0236 - rmse: 0.0236 - val_loss: 0.0014 - val_mean_absolute_error: 0.0172 - val_rmse: 0.0172\n"
     ]
    }
   ],
   "source": [
    "history = model.fit(X_train, Y_train, epochs = 10, validation_data = (X_val, Y_val), verbose = 1)"
   ]
  },
  {
   "cell_type": "code",
   "execution_count": 28,
   "id": "0e09b467",
   "metadata": {},
   "outputs": [
    {
     "data": {
      "image/png": "[encoded data removed]",
      "text/plain": [
       "<Figure size 864x288 with 2 Axes>"
      ]
     },
     "metadata": {
      "needs_background": "light"
     },
     "output_type": "display_data"
    }
   ],
   "source": [
    "rmse = history.history['rmse']\n",
    "mae = history.history['mean_absolute_error']\n",
    "val_error = history.history['val_mean_absolute_error']\n",
    "\n",
    "loss = history.history['loss']\n",
    "val_loss = history.history['val_loss']\n",
    "\n",
    "epochs_range = range(1, len(val_error) + 1)\n",
    "plt.figure(figsize=(12, 4))\n",
    "\n",
    "plt.subplot(1, 2, 1)\n",
    "plt.plot(epochs_range, mae, label = 'MAE')\n",
    "plt.plot(epochs_range, rmse, label = 'RMSE')\n",
    "plt.plot(epochs_range, val_error, label = 'Validation error')\n",
    "plt.legend(loc = 'lower right')\n",
    "plt.xlim(1, len(val_error) + 1)\n",
    "plt.title('Training and Validation error')\n",
    "\n",
    "plt.subplot(1, 2, 2)\n",
    "plt.plot(epochs_range, loss, label = 'Training Loss')\n",
    "plt.plot(epochs_range, val_loss, label = 'Validation Loss')\n",
    "plt.legend(loc = 'upper right')\n",
    "plt.xlim(1, len(val_error) + 1)\n",
    "plt.title('Training and Validation Loss')\n",
    "plt.show()"
   ]
  },
  {
   "cell_type": "code",
   "execution_count": 29,
   "id": "f19375e2",
   "metadata": {},
   "outputs": [
    {
     "name": "stdout",
     "output_type": "stream",
     "text": [
      "RMSE values :  [0.03300253301858902, 0.027529042214155197, 0.025766246020793915, 0.025418171659111977, 0.02404504269361496, 0.024075251072645187, 0.02387368120253086, 0.023650994524359703, 0.02349943481385708, 0.023561950773000717]\n",
      "MAE values :  [0.03300253301858902, 0.027529042214155197, 0.025766246020793915, 0.025418171659111977, 0.02404504269361496, 0.024075251072645187, 0.02387368120253086, 0.023650992661714554, 0.02349943481385708, 0.023561952635645866]\n"
     ]
    }
   ],
   "source": [
    "print(\"RMSE values : \",rmse)\n",
    "print(\"MAE values : \",mae)"
   ]
  },
  {
   "cell_type": "code",
   "execution_count": 30,
   "id": "875221ca",
   "metadata": {},
   "outputs": [],
   "source": [
    "test_predicted = model.predict(X_val)"
   ]
  },
  {
   "cell_type": "code",
   "execution_count": 31,
   "id": "4520d389",
   "metadata": {},
   "outputs": [
    {
     "data": {
      "text/plain": [
       "<matplotlib.legend.Legend at 0x7f8d4874f3a0>"
      ]
     },
     "execution_count": 31,
     "metadata": {},
     "output_type": "execute_result"
    },
    {
     "data": {
      "image/png": "[encoded data removed]",
      "text/plain": [
       "<Figure size 1440x360 with 1 Axes>"
      ]
     },
     "metadata": {
      "needs_background": "light"
     },
     "output_type": "display_data"
    }
   ],
   "source": [
    "fig = plt.figure(figsize = (20, 5))\n",
    "plt.subplot(1, 2, 1)\n",
    "plt.plot(np.arange(3160, 3167),test_predicted[3160: 3167],label = 'Predicted Radiation')\n",
    "plt.plot(np.arange(3160, 3167),Y_val[3160: 3167], label = \"Radiation\")\n",
    "plt.title('7 Days Radiation Prediction')\n",
    "plt.legend()"
   ]
  },
  {
   "cell_type": "code",
   "execution_count": 32,
   "id": "41b75873",
   "metadata": {},
   "outputs": [
    {
     "name": "stdout",
     "output_type": "stream",
     "text": [
      "Accuracy :  0.949376712042696\n"
     ]
    }
   ],
   "source": [
    "from sklearn.metrics import r2_score\n",
    "print(\"Accuracy : \",r2_score(Y_val, test_predicted))"
   ]
  }
 ],
 "metadata": {
  "kernelspec": {
   "display_name": "Python 3 (ipykernel)",
   "language": "python",
   "name": "python3"
  },
  "language_info": {
   "codemirror_mode": {
    "name": "ipython",
    "version": 3
   },
   "file_extension": ".py",
   "mimetype": "text/x-python",
   "name": "python",
   "nbconvert_exporter": "python",
   "pygments_lexer": "ipython3",
   "version": "3.9.7"
  }
 },
 "nbformat": 4,
 "nbformat_minor": 5
}
